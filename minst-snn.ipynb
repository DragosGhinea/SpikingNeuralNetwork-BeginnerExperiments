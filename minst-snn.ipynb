{
 "cells": [
  {
   "cell_type": "code",
   "execution_count": 1,
   "metadata": {},
   "outputs": [],
   "source": [
    "# imports\n",
    "import snntorch as snn\n",
    "from snntorch import surrogate\n",
    "from snntorch import functional as SF\n",
    "from snntorch import utils\n",
    "from snntorch import spikeplot as splt\n",
    "\n",
    "import torch\n",
    "import torch.nn as nn\n",
    "from torch.utils.data import DataLoader\n",
    "from torchvision import datasets, transforms\n",
    "import torch.nn.functional as F\n",
    "\n",
    "import matplotlib.pyplot as plt\n",
    "import numpy as np\n",
    "import itertools"
   ]
  },
  {
   "cell_type": "code",
   "execution_count": 2,
   "metadata": {},
   "outputs": [
    {
     "name": "stdout",
     "output_type": "stream",
     "text": [
      "NumPy random seed set with value: 42\n",
      "PyTorch random seed set with value: 42\n"
     ]
    }
   ],
   "source": [
    "import random\n",
    "\n",
    "\n",
    "def reset_numpy_seed(seed_value=42):\n",
    "  try:\n",
    "    # Set NumPy random seed\n",
    "    import numpy as np\n",
    "    np.random.seed(seed_value)\n",
    "    print(f'NumPy random seed set with value: {seed_value}')\n",
    "  except Exception as e:\n",
    "    print(f'NumPy random seed was not set: {e}')\n",
    "  return\n",
    "\n",
    "def reset_torch_seed(seed_value=42):\n",
    "  try:\n",
    "    import torch\n",
    "    torch.manual_seed(seed_value)\n",
    "    if torch.cuda.is_available():\n",
    "      torch.cuda.manual_seed(seed_value)\n",
    "    print(f'PyTorch random seed set with value: {seed_value}')\n",
    "  except Exception as e:\n",
    "    print(f'PyTorch random seed was not set: {e}')\n",
    "  return\n",
    "\n",
    "\n",
    "def set_random_seeds(seed_value=42):\n",
    "  # Set Python random seed\n",
    "  random.seed(seed_value)\n",
    "  reset_numpy_seed(seed_value)\n",
    "  reset_torch_seed(seed_value)\n",
    "  return\n",
    "\n",
    "\n",
    "if __name__ == '__main__':\n",
    "  # Set the desired seed value\n",
    "  seed = 42\n",
    "\n",
    "  # Set random seeds\n",
    "  set_random_seeds(seed)"
   ]
  },
  {
   "cell_type": "code",
   "execution_count": 3,
   "metadata": {},
   "outputs": [],
   "source": [
    "#device = torch.device(\"cuda\") if torch.cuda.is_available() else torch.device(\"cpu\")\n",
    "device = torch.device(\"cuda\")"
   ]
  },
  {
   "cell_type": "code",
   "execution_count": 4,
   "metadata": {},
   "outputs": [],
   "source": [
    "delta_t = torch.tensor(1e-3)\n",
    "tau = torch.tensor(5e-3)\n",
    "beta = torch.exp(-delta_t/tau)"
   ]
  },
  {
   "cell_type": "code",
   "execution_count": 5,
   "metadata": {},
   "outputs": [
    {
     "data": {
      "text/plain": [
       "tensor(0.8187)"
      ]
     },
     "execution_count": 5,
     "metadata": {},
     "output_type": "execute_result"
    }
   ],
   "source": [
    "beta"
   ]
  },
  {
   "cell_type": "code",
   "execution_count": 6,
   "metadata": {},
   "outputs": [],
   "source": [
    "batch_size = 64\n",
    "num_steps = 10\n",
    "data_path='/tmp/data/mnist'\n",
    "\n",
    "dtype = torch.float"
   ]
  },
  {
   "cell_type": "code",
   "execution_count": 7,
   "metadata": {},
   "outputs": [],
   "source": [
    "transform = transforms.Compose([\n",
    "            transforms.Resize((28, 28)),\n",
    "            transforms.Grayscale(),\n",
    "            transforms.ToTensor(),\n",
    "            transforms.Normalize((0,), (1,))])\n",
    "\n",
    "mnist_train = datasets.MNIST(data_path, train=True, download=True, transform=transform)\n",
    "mnist_test = datasets.MNIST(data_path, train=False, download=True, transform=transform)\n",
    "\n",
    "train_loader = DataLoader(mnist_train, batch_size=batch_size, shuffle=True, drop_last=True)\n",
    "test_loader = DataLoader(mnist_test, batch_size=batch_size, shuffle=True, drop_last=True)"
   ]
  },
  {
   "cell_type": "code",
   "execution_count": 8,
   "metadata": {},
   "outputs": [],
   "source": [
    "spike_grad = surrogate.fast_sigmoid(slope=25)"
   ]
  },
  {
   "cell_type": "code",
   "execution_count": 9,
   "metadata": {},
   "outputs": [],
   "source": [
    "# net = nn.Sequential(\n",
    "#     nn.Conv2d(1, 12, 5),  # Input: (128, 1, 28, 28), Output: (128, 12, 24, 24)\n",
    "#     nn.MaxPool2d(2),       # Output: (128, 12, 12, 12)\n",
    "#     snn.Leaky(beta=beta, spike_grad=spike_grad, init_hidden=True),  # Output: (128, 12, 12, 12)\n",
    "#     nn.Conv2d(12, 64, 5),  # Output: (128, 64, 8, 8)\n",
    "#     nn.MaxPool2d(2),       # Output: (128, 64, 4, 4)\n",
    "#     snn.Leaky(beta=beta, spike_grad=spike_grad, init_hidden=True),  # Output: (128, 64, 4, 4)\n",
    "#     nn.Flatten(),          # Output: (128, 1024)\n",
    "#     nn.Linear(64*4*4, 10), # Output: (128, 10)\n",
    "#     snn.Leaky(beta=beta, spike_grad=spike_grad, init_hidden=True, output=True)  # Output: (128, 10)\n",
    "# ).to(device)\n",
    "\n",
    "net = nn.Sequential(\n",
    "    nn.Conv2d(1, 12, 5),  \n",
    "    nn.MaxPool2d(2),       \n",
    "    snn.Leaky(beta=beta, spike_grad=spike_grad, init_hidden=True, learn_beta=True),  \n",
    "    nn.Conv2d(12, 64, 5),  \n",
    "    nn.MaxPool2d(2),       \n",
    "    snn.Leaky(beta=beta, spike_grad=spike_grad, init_hidden=True, learn_beta=True), \n",
    "    nn.Conv2d(64, 128, 3), \n",
    "    nn.MaxPool2d(2),       \n",
    "    snn.Leaky(beta=beta, spike_grad=spike_grad, init_hidden=True, learn_beta=True),  \n",
    "    nn.Flatten(),          \n",
    "    nn.Linear(128, 10),  \n",
    "    snn.Leaky(beta=beta, spike_grad=spike_grad, init_hidden=True, learn_beta=True, output=True)\n",
    ").to(device)"
   ]
  },
  {
   "cell_type": "code",
   "execution_count": 10,
   "metadata": {},
   "outputs": [],
   "source": [
    "def forward_pass(net, num_steps, data):\n",
    "  mem_rec = []\n",
    "  spk_rec = []\n",
    "  utils.reset(net)  # resets hidden states for all LIF neurons in net\n",
    "\n",
    "  for step in range(num_steps):\n",
    "      spk_out, mem_out = net(data)\n",
    "      spk_rec.append(spk_out)\n",
    "      mem_rec.append(mem_out)\n",
    "\n",
    "  return torch.stack(spk_rec), torch.stack(mem_rec)"
   ]
  },
  {
   "cell_type": "code",
   "execution_count": 11,
   "metadata": {},
   "outputs": [],
   "source": [
    "data, targets = next(iter(train_loader))\n",
    "data = data.to(device)\n",
    "targets = targets.to(device)"
   ]
  },
  {
   "cell_type": "code",
   "execution_count": 12,
   "metadata": {},
   "outputs": [],
   "source": [
    "spk_rec, mem_rec = forward_pass(net, num_steps, data)"
   ]
  },
  {
   "cell_type": "code",
   "execution_count": 13,
   "metadata": {},
   "outputs": [],
   "source": [
    "loss_fn = SF.ce_rate_loss()\n",
    "loss_val = loss_fn(spk_rec, targets)\n",
    "acc = SF.accuracy_rate(spk_rec, targets)"
   ]
  },
  {
   "cell_type": "code",
   "execution_count": 14,
   "metadata": {},
   "outputs": [
    {
     "name": "stdout",
     "output_type": "stream",
     "text": [
      "The loss from an untrained network is 2.303\n",
      "The accuracy of a single batch using an untrained network is 10.938%\n"
     ]
    }
   ],
   "source": [
    "print(f\"The loss from an untrained network is {loss_val.item():.3f}\")\n",
    "print(f\"The accuracy of a single batch using an untrained network is {acc*100:.3f}%\")"
   ]
  },
  {
   "cell_type": "code",
   "execution_count": 15,
   "metadata": {},
   "outputs": [],
   "source": [
    "def batch_accuracy(train_loader, net, num_steps):\n",
    "  with torch.no_grad():\n",
    "    total = 0\n",
    "    acc = 0\n",
    "    net.eval()\n",
    "\n",
    "    train_loader = iter(train_loader)\n",
    "    for data, targets in train_loader:\n",
    "      data = data.to(device)\n",
    "      targets = targets.to(device)\n",
    "      spk_rec, _ = forward_pass(net, num_steps, data)\n",
    "\n",
    "      acc += SF.accuracy_rate(spk_rec, targets) * spk_rec.size(1)\n",
    "      total += spk_rec.size(1)\n",
    "\n",
    "  return acc/total"
   ]
  },
  {
   "cell_type": "code",
   "execution_count": 16,
   "metadata": {},
   "outputs": [
    {
     "name": "stdout",
     "output_type": "stream",
     "text": [
      "The total accuracy on the test set is: 9.80%\n"
     ]
    }
   ],
   "source": [
    "test_acc = batch_accuracy(test_loader, net, num_steps)\n",
    "print(f\"The total accuracy on the test set is: {test_acc * 100:.2f}%\")"
   ]
  },
  {
   "cell_type": "code",
   "execution_count": 17,
   "metadata": {},
   "outputs": [],
   "source": [
    "# for i in range(128):\n",
    "#     if torch.sum(spk_rec[:, i, :]) > 0:\n",
    "#         print(i)"
   ]
  },
  {
   "cell_type": "code",
   "execution_count": 18,
   "metadata": {},
   "outputs": [
    {
     "name": "stdout",
     "output_type": "stream",
     "text": [
      "Iteration 0, Test Acc: 9.80%\n",
      "\n",
      "Iteration 100, Test Acc: 81.15%\n",
      "\n",
      "Iteration 200, Test Acc: 90.44%\n",
      "\n",
      "Iteration 300, Test Acc: 95.19%\n",
      "\n",
      "Iteration 400, Test Acc: 95.44%\n",
      "\n",
      "Iteration 500, Test Acc: 95.77%\n",
      "\n",
      "Iteration 600, Test Acc: 96.82%\n",
      "\n",
      "Iteration 700, Test Acc: 97.27%\n",
      "\n",
      "Iteration 800, Test Acc: 97.58%\n",
      "\n",
      "Iteration 900, Test Acc: 97.38%\n",
      "\n",
      "Iteration 1000, Test Acc: 97.57%\n",
      "\n",
      "Iteration 1100, Test Acc: 97.66%\n",
      "\n",
      "Iteration 1200, Test Acc: 98.12%\n",
      "\n",
      "Iteration 1300, Test Acc: 97.64%\n",
      "\n",
      "Iteration 1400, Test Acc: 97.88%\n",
      "\n",
      "Iteration 1500, Test Acc: 97.89%\n",
      "\n",
      "Iteration 1600, Test Acc: 98.17%\n",
      "\n",
      "Iteration 1700, Test Acc: 98.08%\n",
      "\n",
      "Iteration 1800, Test Acc: 98.06%\n",
      "\n",
      "Iteration 1900, Test Acc: 98.06%\n",
      "\n",
      "Iteration 2000, Test Acc: 98.08%\n",
      "\n",
      "Iteration 2100, Test Acc: 98.04%\n",
      "\n",
      "Iteration 2200, Test Acc: 98.19%\n",
      "\n",
      "Iteration 2300, Test Acc: 98.18%\n",
      "\n",
      "Iteration 2400, Test Acc: 97.86%\n",
      "\n",
      "Iteration 2500, Test Acc: 98.14%\n",
      "\n",
      "Iteration 2600, Test Acc: 98.26%\n",
      "\n",
      "Iteration 2700, Test Acc: 98.35%\n",
      "\n",
      "Iteration 2800, Test Acc: 98.07%\n",
      "\n",
      "Iteration 2811, Test Acc: 98.17%\n",
      "\n"
     ]
    }
   ],
   "source": [
    "optimizer = torch.optim.Adam(net.parameters(), lr=1e-3, betas=(0.9, 0.999))\n",
    "num_epochs = 3\n",
    "loss_hist = []\n",
    "test_acc_hist = []\n",
    "counter = 0\n",
    "\n",
    "# Outer training loop\n",
    "for epoch in range(num_epochs):\n",
    "\n",
    "    # Training loop\n",
    "    for data, targets in iter(train_loader):\n",
    "        data = data.to(device)\n",
    "        targets = targets.to(device)\n",
    "\n",
    "        # forward pass\n",
    "        net.train()\n",
    "        spk_rec, _ = forward_pass(net, num_steps, data)\n",
    "\n",
    "        # initialize the loss & sum over time\n",
    "        loss_val = loss_fn(spk_rec, targets)\n",
    "\n",
    "        # Gradient calculation + weight update\n",
    "        optimizer.zero_grad()\n",
    "        loss_val.backward()\n",
    "        optimizer.step()\n",
    "\n",
    "        # Store loss history for future plotting\n",
    "        loss_hist.append(loss_val.item())\n",
    "\n",
    "        # Test set\n",
    "        if counter % 100 == 0:\n",
    "            with torch.no_grad():\n",
    "                net.eval()\n",
    "\n",
    "                # Test set forward pass\n",
    "                test_acc = batch_accuracy(test_loader, net, num_steps)\n",
    "                print(f\"Iteration {counter}, Test Acc: {test_acc * 100:.2f}%\\n\")\n",
    "                test_acc_hist.append(test_acc.item())\n",
    "\n",
    "        counter += 1\n",
    "\n",
    "with torch.no_grad():\n",
    "    net.eval()\n",
    "\n",
    "    # Test set forward pass\n",
    "    test_acc = batch_accuracy(test_loader, net, num_steps)\n",
    "    print(f\"Iteration {counter}, Test Acc: {test_acc * 100:.2f}%\\n\")\n",
    "    test_acc_hist.append(test_acc.item())"
   ]
  },
  {
   "cell_type": "code",
   "execution_count": 19,
   "metadata": {},
   "outputs": [
    {
     "data": {
      "image/png": "[encoded data removed]",
      "text/plain": [
       "<Figure size 640x480 with 1 Axes>"
      ]
     },
     "metadata": {},
     "output_type": "display_data"
    }
   ],
   "source": [
    "# Plot Loss\n",
    "fig = plt.figure(facecolor=\"w\")\n",
    "plt.plot(loss_hist)\n",
    "plt.title(\"Training Loss\")\n",
    "plt.xlabel(\"Step\")\n",
    "plt.ylabel(\"Loss\")\n",
    "plt.show()"
   ]
  },
  {
   "cell_type": "code",
   "execution_count": 20,
   "metadata": {},
   "outputs": [
    {
     "data": {
      "image/png": "[encoded data removed]",
      "text/plain": [
       "<Figure size 640x480 with 1 Axes>"
      ]
     },
     "metadata": {},
     "output_type": "display_data"
    }
   ],
   "source": [
    "\n",
    "fig = plt.figure(facecolor=\"w\")\n",
    "plt.plot(test_acc_hist)\n",
    "plt.title(\"Test Set Accuracy\")\n",
    "plt.xlabel(\"Epoch\")\n",
    "plt.ylabel(\"Accuracy\")\n",
    "plt.show()"
   ]
  },
  {
   "cell_type": "code",
   "execution_count": 21,
   "metadata": {},
   "outputs": [],
   "source": [
    "# from IPython.display import HTML\n",
    "\n",
    "# idx = 2\n",
    "\n",
    "# fig, ax = plt.subplots(facecolor='w', figsize=(12, 7))\n",
    "# labels=['0', '1', '2', '3', '4', '5', '6', '7', '8','9']\n",
    "\n",
    "# plt.rcParams['animation.ffmpeg_path'] = 'C:/ffmpeg/ffmpeg-master-latest-win64-gpl/bin/ffmpeg.exe'\n",
    "\n",
    "# anim = splt.spike_count(spk_rec[:, idx].detach().cpu(), fig, ax, labels=labels,\n",
    "#                         animate=True, interpolate=4)\n",
    "\n",
    "# print(f\"The target label is: {targets[idx]}\")\n",
    "# HTML(anim.to_html5_video())"
   ]
  }
 ],
 "metadata": {
  "kernelspec": {
   "display_name": "snn",
   "language": "python",
   "name": "python3"
  },
  "language_info": {
   "codemirror_mode": {
    "name": "ipython",
    "version": 3
   },
   "file_extension": ".py",
   "mimetype": "text/x-python",
   "name": "python",
   "nbconvert_exporter": "python",
   "pygments_lexer": "ipython3",
   "version": "3.10.14"
  }
 },
 "nbformat": 4,
 "nbformat_minor": 2
}
